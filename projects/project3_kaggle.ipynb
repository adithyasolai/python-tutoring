{
 "cells": [
  {
   "cell_type": "markdown",
   "metadata": {},
   "source": [
    "# Project 3 - Kaggle\n",
    "### Written by Adithya Solai"
   ]
  },
  {
   "cell_type": "markdown",
   "metadata": {},
   "source": [
    "# Choose a Dataset\n",
    "\n",
    "* Credit Card Customers: https://www.kaggle.com/sakshigoyal7/credit-card-customers\n",
    "\n",
    "* Student Performance on Exams:\n",
    "https://www.kaggle.com/spscientist/students-performance-in-exams\n",
    "\n",
    "* Real Estate Prices: https://www.kaggle.com/arslanali4343/real-estate-dataset\n",
    "\n",
    "_If none of the above datasets seem interesting to you, pick one yourself from https://www.kaggle.com/datasets. Select a dataset with a high usability rating to avoid mundane data cleaning._"
   ]
  },
  {
   "cell_type": "markdown",
   "metadata": {},
   "source": [
    "# Import Dataset into Jupyter Notebook\n",
    "\n",
    "* Download the dataset from kaggle.com as a .csv file. \n",
    "* Put that .csv file in the same folder as this Jupyter Notebook. \n",
    "* Load your dataset into a DataFrame using the `read_csv()` function in Pandas."
   ]
  },
  {
   "cell_type": "markdown",
   "metadata": {},
   "source": [
    "# Task 1 - Simple Linear Regression\n",
    "\n",
    "Conduct a Simple Linear Regression on your dataset to get some insight on a question you have about the data.\n",
    "\n",
    "Here is a checklist of sub-tasks that might help you structure your analysis properly (\"Prose\" means you should use a Markdown cell, \"Code\" means you should use a code cell):\n",
    "\n",
    "* Select one predictor and one response variable. (Remember, you can also create new variables out of the existing variables and use that new variable as a predictor or response. Ex: In a NBA player stats dataset, you can create a new variable called 3-Pointers% by dividing the 3-Pointers-Made variable by the 3-Pointers-Attempted variable.)\n",
    "\n",
    "* **(Prose)** Explain in simple English why you chose these two variables and what you hypothesize the outcome of the Linear Regression will be. (Ex: \"As X goes up, I expect Y to go down because...\")\n",
    "\n",
    "* **(Prose)** Write your simple-English hypothesis in the more formal hypothesis testing notation. (Ex: Ho: m=0 & Ha: m<0, where Ho is the null hypothesis, Ha is the alternate hypothesis, and m is the slope of your predictor variable in the formula y=mx+b.)\n",
    "\n",
    "* **(Code)** Do any data cleaning/transformation needed to get your dataset in the right format for the Linear Regression package you plan to use (sklearn or statsmodels.api). This includes things like making new columns, dropping unused columns, removing null values in columns, etc.\n",
    "\n",
    "* **(Code)** Run your data through the Linear Regression package and make sure your output has the coefficients m & b in the formula y=mx+b and the hypothesis testing statistic (t-statistic or p-value) you plan to use to prove whether your Null Hypothesis can be rejected.\n",
    "\n",
    "* **(Prose)** Use your t-statistic or p-value to determine whether there is sufficient statistical evidence to suggest that your Null Hypothesis can be rejected at a 95% confidence level.\n",
    "\n",
    "* **(Prose)** Interpret the coefficient of your predictor variable. (Ex: \"For every one unit increase in X, Y will increase/decrease by...\")"
   ]
  },
  {
   "cell_type": "markdown",
   "metadata": {},
   "source": [
    "# Task 2 - Multiple Linear Regression\n",
    "\n",
    "Conduct a Multiple Linear Regression on your dataset to get some insight into a more nuanced, complex question about the dataset.\n",
    "\n",
    "Use the checklist in Task 1 to structure your analysis. Make sure to have at least 2 predictor variables. You don't need to interpret the coefficient of every significant predictor variable."
   ]
  }
 ],
 "metadata": {
  "kernelspec": {
   "display_name": "Python 3.7.4 64-bit ('base': conda)",
   "language": "python",
   "name": "python37464bitbaseconda9464b569a4ee459cab97fec432dce6d8"
  },
  "language_info": {
   "codemirror_mode": {
    "name": "ipython",
    "version": 3
   },
   "file_extension": ".py",
   "mimetype": "text/x-python",
   "name": "python",
   "nbconvert_exporter": "python",
   "pygments_lexer": "ipython3",
   "version": "3.7.4"
  }
 },
 "nbformat": 4,
 "nbformat_minor": 2
}
