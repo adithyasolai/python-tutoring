{
 "cells": [
  {
   "cell_type": "markdown",
   "metadata": {},
   "source": [
    "# Final Project\n",
    "### Written by Adithya Solai"
   ]
  },
  {
   "cell_type": "markdown",
   "metadata": {},
   "source": [
    "## Description\n",
    "\n",
    "The Final Project is a chance for students to use all parts of the Data Science workflow in one project:\n",
    "- Data Scraping/Collection w/ BeautifulSoup\n",
    "- Data Transformation/Manipulation w/ Pandas & NumPy\n",
    "- Data Visualization w/ matplotlib & seaborn\n",
    "- Machine Learning & Hypothesis Testing w/ scikit-learn\n",
    "\n",
    "The Final Project is very open-ended, and only has the following instructions and requirements: \n",
    "- Find any dataset on the internet that interests you. You can scrape data or simply download a .csv file. It doesn’t matter.\n",
    "- Ask 2-3 questions about the dataset. These are the hypotheses that you will test later. \n",
    "  - Ex: “How does variable Y change as variable X changes?”\n",
    "  - Ex: “I predict that variable Y will go up as variable X goes up because...”\n",
    "- Create data visualizations that help give some insight in answering your questions.\n",
    "- Run a Linear or Logistic Regression (or any other Machine Learning method you learn on your own) to conduct some hypothesis testing on your initial questions.\n",
    "- Write a conclusion about what the results of your hypothesis testing indicate.\n",
    "  - Were you right or wrong about your initial hypotheses/questions?\n",
    "  - Were you able to find statistically-significant evidence to support your hypothesis?\n",
    "  - What further steps can be taken in future studies to answer your questions?"
   ]
  }
 ],
 "metadata": {
  "kernelspec": {
   "display_name": "Python 3.7.4 64-bit ('base': conda)",
   "language": "python",
   "name": "python37464bitbaseconda9464b569a4ee459cab97fec432dce6d8"
  },
  "language_info": {
   "codemirror_mode": {
    "name": "ipython",
    "version": 3
   },
   "file_extension": ".py",
   "mimetype": "text/x-python",
   "name": "python",
   "nbconvert_exporter": "python",
   "pygments_lexer": "ipython3",
   "version": "3.7.4"
  }
 },
 "nbformat": 4,
 "nbformat_minor": 2
}
