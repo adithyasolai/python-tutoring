{
 "cells": [
  {
   "cell_type": "markdown",
   "metadata": {},
   "source": [
    "# Project 4 - NBA\n",
    "### Written by Adithya Solai"
   ]
  },
  {
   "cell_type": "markdown",
   "metadata": {},
   "source": [
    "## Description\n",
    "\n",
    "In this project, students will scrape NBA player season average stats for the 2000-2001 season from this webpage: https://www.basketball-reference.com/leagues/NBA_2001_per_game.html.\n",
    "\n",
    "Then, students will make 3 data visualizations of their own design on the compiled 20 years of NBA data. Students must explain what question they hoped to investigate with their visualization, and what they learned from creating and analyzing the visualization. Students are recommended to use variables like Year or Age as the x-axis in visualizations, but the final choice is ultimately up to the student.The hardest part of this project will be scraping and compiling the 20 years of data into oneDataFrame, and then preparing that DataFrame for subsequent data visualizations.\n",
    "\n",
    "_Feel free to scrape data from a different website, or even pull data from an external API. Just don't download a CSV and import data from a local CSV file._"
   ]
  },
  {
   "cell_type": "markdown",
   "metadata": {},
   "source": [
    "## Task 1: Scrape Data"
   ]
  },
  {
   "cell_type": "markdown",
   "metadata": {},
   "source": [
    "## Task 2: Create 3 Data Visualizations"
   ]
  }
 ],
 "metadata": {
  "kernelspec": {
   "display_name": "Python 3.7.4 64-bit ('base': conda)",
   "language": "python",
   "name": "python37464bitbaseconda9464b569a4ee459cab97fec432dce6d8"
  },
  "language_info": {
   "codemirror_mode": {
    "name": "ipython",
    "version": 3
   },
   "file_extension": ".py",
   "mimetype": "text/x-python",
   "name": "python",
   "nbconvert_exporter": "python",
   "pygments_lexer": "ipython3",
   "version": "3.7.4"
  }
 },
 "nbformat": 4,
 "nbformat_minor": 2
}
