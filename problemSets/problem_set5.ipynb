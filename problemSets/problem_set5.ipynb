{
 "cells": [
  {
   "cell_type": "markdown",
   "metadata": {},
   "source": [
    "# Problem Set 5\n",
    "### Written by Adithya Solai\n",
    "\n",
    "_Copyright © 2021 Adithya Solai. All rights are reserved.\n",
    "You cannot use, modify, or redistribute this code without \n",
    "explicit permission from Adithya Solai._"
   ]
  },
  {
   "cell_type": "code",
   "execution_count": 1,
   "metadata": {},
   "outputs": [],
   "source": [
    "import numpy as np\n",
    "import pandas as pd"
   ]
  },
  {
   "cell_type": "markdown",
   "metadata": {},
   "source": [
    "In this problem set, you will be exclusively working with data on MLB (Major League Baseball) teams from 1990 to 2014. You should have been given a baseball.csv file with the data in it (look in the `/datasets` folder). Make sure that .csv file is in the same file directory as this .ipynb file. Run the code in the cell below to load the data from this csv into a pandas DataFrame."
   ]
  },
  {
   "cell_type": "code",
   "execution_count": 3,
   "metadata": {},
   "outputs": [
    {
     "data": {
      "text/html": [
       "<div>\n",
       "<style scoped>\n",
       "    .dataframe tbody tr th:only-of-type {\n",
       "        vertical-align: middle;\n",
       "    }\n",
       "\n",
       "    .dataframe tbody tr th {\n",
       "        vertical-align: top;\n",
       "    }\n",
       "\n",
       "    .dataframe thead th {\n",
       "        text-align: right;\n",
       "    }\n",
       "</style>\n",
       "<table border=\"1\" class=\"dataframe\">\n",
       "  <thead>\n",
       "    <tr style=\"text-align: right;\">\n",
       "      <th></th>\n",
       "      <th>teamID</th>\n",
       "      <th>yearID</th>\n",
       "      <th>total_payroll</th>\n",
       "      <th>franchID</th>\n",
       "      <th>W</th>\n",
       "      <th>G</th>\n",
       "    </tr>\n",
       "  </thead>\n",
       "  <tbody>\n",
       "    <tr>\n",
       "      <td>0</td>\n",
       "      <td>BAL</td>\n",
       "      <td>1990</td>\n",
       "      <td>9680084</td>\n",
       "      <td>BAL</td>\n",
       "      <td>76</td>\n",
       "      <td>161</td>\n",
       "    </tr>\n",
       "    <tr>\n",
       "      <td>1</td>\n",
       "      <td>BOS</td>\n",
       "      <td>1990</td>\n",
       "      <td>20558333</td>\n",
       "      <td>BOS</td>\n",
       "      <td>88</td>\n",
       "      <td>162</td>\n",
       "    </tr>\n",
       "    <tr>\n",
       "      <td>2</td>\n",
       "      <td>CAL</td>\n",
       "      <td>1990</td>\n",
       "      <td>21720000</td>\n",
       "      <td>ANA</td>\n",
       "      <td>80</td>\n",
       "      <td>162</td>\n",
       "    </tr>\n",
       "    <tr>\n",
       "      <td>3</td>\n",
       "      <td>CHA</td>\n",
       "      <td>1990</td>\n",
       "      <td>9491500</td>\n",
       "      <td>CHW</td>\n",
       "      <td>94</td>\n",
       "      <td>162</td>\n",
       "    </tr>\n",
       "    <tr>\n",
       "      <td>4</td>\n",
       "      <td>CLE</td>\n",
       "      <td>1990</td>\n",
       "      <td>14487000</td>\n",
       "      <td>CLE</td>\n",
       "      <td>77</td>\n",
       "      <td>162</td>\n",
       "    </tr>\n",
       "  </tbody>\n",
       "</table>\n",
       "</div>"
      ],
      "text/plain": [
       "  teamID  yearID  total_payroll franchID   W    G\n",
       "0    BAL    1990        9680084      BAL  76  161\n",
       "1    BOS    1990       20558333      BOS  88  162\n",
       "2    CAL    1990       21720000      ANA  80  162\n",
       "3    CHA    1990        9491500      CHW  94  162\n",
       "4    CLE    1990       14487000      CLE  77  162"
      ]
     },
     "execution_count": 3,
     "metadata": {},
     "output_type": "execute_result"
    }
   ],
   "source": [
    "baseball_df = pd.read_csv(\"baseball.csv\")\n",
    "baseball_df.head()"
   ]
  },
  {
   "cell_type": "markdown",
   "metadata": {},
   "source": [
    "As seen above, this dataset tracks the # of wins each team got in a season (`W` column), the total # of games in that season (`G` column), and the amount of money in $ that the team spent on their player salaries that year (`total_payroll` column). This is done for all years from 1990 to 2014 (`yearID` column)"
   ]
  },
  {
   "cell_type": "markdown",
   "metadata": {},
   "source": [
    "## Complete all tasks below."
   ]
  },
  {
   "cell_type": "markdown",
   "metadata": {},
   "source": [
    "### Task 1\n",
    "**Drop the `teamID` column. The teamID changes throughout the years, as teams re-brand themselves with different cities/mascots/acronyms. The `franchId` (franchise ID) stays consistent throughout the years, so that column will be most helpful to our analysis.**"
   ]
  },
  {
   "cell_type": "markdown",
   "metadata": {},
   "source": [
    "### Task 2\n",
    "**Find the minimum and maximum value in the `yearID` column to ensure that this dataset is actually from 1990 to 2014.**"
   ]
  },
  {
   "cell_type": "markdown",
   "metadata": {},
   "source": [
    "### Task 3\n",
    "**Create a new column called `win_pct` that represents the win percentage of each team for a particular season. Use the `W` and `G` column to easily create the new column. The `win_pct` column should be some `float` datatype, and all values in this column should be between 0 and 1 since it is a percentage.**\n",
    "\n",
    "For example, the `win_pct` column for the first row in the dataset (`franchID`=BAL, `yearID`=1990) would be 76 / 161, or 0.47205."
   ]
  },
  {
   "cell_type": "markdown",
   "metadata": {},
   "source": [
    "### Task 4\n",
    "**Print the mean payroll for the New York Yankees (`franchID`=NYY) in the years 2000-2014. Do the same for the Oakland Athletics (`franchID`=OAK).**"
   ]
  },
  {
   "cell_type": "markdown",
   "metadata": {},
   "source": [
    "### Task 5\n",
    "**Find the team with the lowest average payroll from 1990-2015 (the entire dataset). Find the team with the highest average payroll from 1990-2014 as well.**"
   ]
  },
  {
   "cell_type": "markdown",
   "metadata": {},
   "source": [
    "### Task 6\n",
    "**Create a new column called `payroll_efficiency`, which is basically the `total_payroll` column divided by the `W` column. This will give a rough estimate of how efficient each team is at using their payroll to get wins.**\n",
    "\n",
    "A lower `payroll_efficiency` value means that the team is more efficient since a low value is the result of a low numerator (low payroll spending) and a high denominator (high # of wins)."
   ]
  },
  {
   "cell_type": "markdown",
   "metadata": {},
   "source": [
    "### Task 7\n",
    "**Find the team with the lowest average `payroll_efficiency` from 1990-2014 to get a rough estimate of the most efficient team. Find the team with the highest average `payroll_efficiency` to find the team that is least efficient.**"
   ]
  }
 ],
 "metadata": {
  "kernelspec": {
   "display_name": "Python 3.7.4 64-bit ('base': conda)",
   "language": "python",
   "name": "python37464bitbaseconda9464b569a4ee459cab97fec432dce6d8"
  },
  "language_info": {
   "codemirror_mode": {
    "name": "ipython",
    "version": 3
   },
   "file_extension": ".py",
   "mimetype": "text/x-python",
   "name": "python",
   "nbconvert_exporter": "python",
   "pygments_lexer": "ipython3",
   "version": "3.7.4"
  }
 },
 "nbformat": 4,
 "nbformat_minor": 2
}
