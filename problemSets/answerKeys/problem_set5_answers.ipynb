{
 "cells": [
  {
   "cell_type": "markdown",
   "metadata": {},
   "source": [
    "# Problem Set 5\n",
    "### Written by Adithya Solai"
   ]
  },
  {
   "cell_type": "code",
   "execution_count": 38,
   "metadata": {},
   "outputs": [],
   "source": [
    "import numpy as np\n",
    "import pandas as pd"
   ]
  },
  {
   "cell_type": "markdown",
   "metadata": {},
   "source": [
    "In this problem set, you will be exclusively working with data on MLB (Major League Baseball) teams from 1990 to 2015. You should have been given a baseball.csv file with the data in it. Make sure that .csv file is in the same file directory as this .ipynb file. Run the code in the cell below to load the data from this csv into a pandas DataFrame."
   ]
  },
  {
   "cell_type": "code",
   "execution_count": 39,
   "metadata": {},
   "outputs": [
    {
     "data": {
      "text/html": [
       "<div>\n",
       "<style scoped>\n",
       "    .dataframe tbody tr th:only-of-type {\n",
       "        vertical-align: middle;\n",
       "    }\n",
       "\n",
       "    .dataframe tbody tr th {\n",
       "        vertical-align: top;\n",
       "    }\n",
       "\n",
       "    .dataframe thead th {\n",
       "        text-align: right;\n",
       "    }\n",
       "</style>\n",
       "<table border=\"1\" class=\"dataframe\">\n",
       "  <thead>\n",
       "    <tr style=\"text-align: right;\">\n",
       "      <th></th>\n",
       "      <th>teamID</th>\n",
       "      <th>yearID</th>\n",
       "      <th>total_payroll</th>\n",
       "      <th>franchID</th>\n",
       "      <th>W</th>\n",
       "      <th>G</th>\n",
       "    </tr>\n",
       "  </thead>\n",
       "  <tbody>\n",
       "    <tr>\n",
       "      <th>0</th>\n",
       "      <td>BAL</td>\n",
       "      <td>1990</td>\n",
       "      <td>9680084</td>\n",
       "      <td>BAL</td>\n",
       "      <td>76</td>\n",
       "      <td>161</td>\n",
       "    </tr>\n",
       "    <tr>\n",
       "      <th>1</th>\n",
       "      <td>BOS</td>\n",
       "      <td>1990</td>\n",
       "      <td>20558333</td>\n",
       "      <td>BOS</td>\n",
       "      <td>88</td>\n",
       "      <td>162</td>\n",
       "    </tr>\n",
       "    <tr>\n",
       "      <th>2</th>\n",
       "      <td>CAL</td>\n",
       "      <td>1990</td>\n",
       "      <td>21720000</td>\n",
       "      <td>ANA</td>\n",
       "      <td>80</td>\n",
       "      <td>162</td>\n",
       "    </tr>\n",
       "    <tr>\n",
       "      <th>3</th>\n",
       "      <td>CHA</td>\n",
       "      <td>1990</td>\n",
       "      <td>9491500</td>\n",
       "      <td>CHW</td>\n",
       "      <td>94</td>\n",
       "      <td>162</td>\n",
       "    </tr>\n",
       "    <tr>\n",
       "      <th>4</th>\n",
       "      <td>CLE</td>\n",
       "      <td>1990</td>\n",
       "      <td>14487000</td>\n",
       "      <td>CLE</td>\n",
       "      <td>77</td>\n",
       "      <td>162</td>\n",
       "    </tr>\n",
       "  </tbody>\n",
       "</table>\n",
       "</div>"
      ],
      "text/plain": [
       "  teamID  yearID  total_payroll franchID   W    G\n",
       "0    BAL    1990        9680084      BAL  76  161\n",
       "1    BOS    1990       20558333      BOS  88  162\n",
       "2    CAL    1990       21720000      ANA  80  162\n",
       "3    CHA    1990        9491500      CHW  94  162\n",
       "4    CLE    1990       14487000      CLE  77  162"
      ]
     },
     "execution_count": 39,
     "metadata": {},
     "output_type": "execute_result"
    }
   ],
   "source": [
    "baseball_df = pd.read_csv(\"./datasets/baseball.csv\")\n",
    "baseball_df.head()"
   ]
  },
  {
   "cell_type": "markdown",
   "metadata": {},
   "source": [
    "As seen above, this dataset tracks the # of wins each team got in a season (`W` column), the total # of games in that season (`G` column), and the amount of money in $ that the team spent on their player salaries that year (`total_payroll` column). This is done for all years from 1990 to 2015 (`yearID` column)"
   ]
  },
  {
   "cell_type": "markdown",
   "metadata": {},
   "source": [
    "## Complete all tasks below."
   ]
  },
  {
   "cell_type": "markdown",
   "metadata": {},
   "source": [
    "### Task 1\n",
    "**Drop the `teamID` column. The teamID changes throughout the years, as teams re-brand themselves with different cities/mascots/acronyms. The `franchId` (franchise ID) stays consistent throughout the years, so that column will be most helpful to our analysis.**"
   ]
  },
  {
   "cell_type": "code",
   "execution_count": 40,
   "metadata": {},
   "outputs": [
    {
     "data": {
      "text/html": [
       "<div>\n",
       "<style scoped>\n",
       "    .dataframe tbody tr th:only-of-type {\n",
       "        vertical-align: middle;\n",
       "    }\n",
       "\n",
       "    .dataframe tbody tr th {\n",
       "        vertical-align: top;\n",
       "    }\n",
       "\n",
       "    .dataframe thead th {\n",
       "        text-align: right;\n",
       "    }\n",
       "</style>\n",
       "<table border=\"1\" class=\"dataframe\">\n",
       "  <thead>\n",
       "    <tr style=\"text-align: right;\">\n",
       "      <th></th>\n",
       "      <th>yearID</th>\n",
       "      <th>total_payroll</th>\n",
       "      <th>franchID</th>\n",
       "      <th>W</th>\n",
       "      <th>G</th>\n",
       "    </tr>\n",
       "  </thead>\n",
       "  <tbody>\n",
       "    <tr>\n",
       "      <th>0</th>\n",
       "      <td>1990</td>\n",
       "      <td>9680084</td>\n",
       "      <td>BAL</td>\n",
       "      <td>76</td>\n",
       "      <td>161</td>\n",
       "    </tr>\n",
       "    <tr>\n",
       "      <th>1</th>\n",
       "      <td>1990</td>\n",
       "      <td>20558333</td>\n",
       "      <td>BOS</td>\n",
       "      <td>88</td>\n",
       "      <td>162</td>\n",
       "    </tr>\n",
       "    <tr>\n",
       "      <th>2</th>\n",
       "      <td>1990</td>\n",
       "      <td>21720000</td>\n",
       "      <td>ANA</td>\n",
       "      <td>80</td>\n",
       "      <td>162</td>\n",
       "    </tr>\n",
       "    <tr>\n",
       "      <th>3</th>\n",
       "      <td>1990</td>\n",
       "      <td>9491500</td>\n",
       "      <td>CHW</td>\n",
       "      <td>94</td>\n",
       "      <td>162</td>\n",
       "    </tr>\n",
       "    <tr>\n",
       "      <th>4</th>\n",
       "      <td>1990</td>\n",
       "      <td>14487000</td>\n",
       "      <td>CLE</td>\n",
       "      <td>77</td>\n",
       "      <td>162</td>\n",
       "    </tr>\n",
       "  </tbody>\n",
       "</table>\n",
       "</div>"
      ],
      "text/plain": [
       "   yearID  total_payroll franchID   W    G\n",
       "0    1990        9680084      BAL  76  161\n",
       "1    1990       20558333      BOS  88  162\n",
       "2    1990       21720000      ANA  80  162\n",
       "3    1990        9491500      CHW  94  162\n",
       "4    1990       14487000      CLE  77  162"
      ]
     },
     "execution_count": 40,
     "metadata": {},
     "output_type": "execute_result"
    }
   ],
   "source": [
    "baseball_df.drop(columns='teamID', inplace=True)\n",
    "baseball_df.head()"
   ]
  },
  {
   "cell_type": "markdown",
   "metadata": {},
   "source": [
    "### Task 2\n",
    "**Find the minimum and maximum value in the `yearID` column to ensure that this dataset is actually from 1990 to 2014.**"
   ]
  },
  {
   "cell_type": "code",
   "execution_count": 41,
   "metadata": {},
   "outputs": [
    {
     "name": "stdout",
     "output_type": "stream",
     "text": [
      "Minimum yearID: 1990\n",
      "Maximum yearID: 2014\n"
     ]
    }
   ],
   "source": [
    "# There are many ways to do this problem, so it is OK if your solution differs.\n",
    "print(\"Minimum yearID:\", baseball_df['yearID'].min())\n",
    "print(\"Maximum yearID:\", baseball_df['yearID'].max())"
   ]
  },
  {
   "cell_type": "markdown",
   "metadata": {},
   "source": [
    "### Task 3\n",
    "**Create a new column called `win_pct` that represents the win percentage of each team for a particular season. Use the `W` and `G` column to easily create the new column. The `win_pct` column should be some `float` datatype, and all values in this column should be between 0 and 1 since it is a percentage.**\n",
    "\n",
    "For example, the `win_pct` column for the first row in the dataset (`franchID`=BAL, `yearID`=1990) would be 76 / 161, or 0.47205."
   ]
  },
  {
   "cell_type": "code",
   "execution_count": 42,
   "metadata": {},
   "outputs": [
    {
     "data": {
      "text/html": [
       "<div>\n",
       "<style scoped>\n",
       "    .dataframe tbody tr th:only-of-type {\n",
       "        vertical-align: middle;\n",
       "    }\n",
       "\n",
       "    .dataframe tbody tr th {\n",
       "        vertical-align: top;\n",
       "    }\n",
       "\n",
       "    .dataframe thead th {\n",
       "        text-align: right;\n",
       "    }\n",
       "</style>\n",
       "<table border=\"1\" class=\"dataframe\">\n",
       "  <thead>\n",
       "    <tr style=\"text-align: right;\">\n",
       "      <th></th>\n",
       "      <th>yearID</th>\n",
       "      <th>total_payroll</th>\n",
       "      <th>franchID</th>\n",
       "      <th>W</th>\n",
       "      <th>G</th>\n",
       "      <th>win_pct</th>\n",
       "    </tr>\n",
       "  </thead>\n",
       "  <tbody>\n",
       "    <tr>\n",
       "      <th>0</th>\n",
       "      <td>1990</td>\n",
       "      <td>9680084</td>\n",
       "      <td>BAL</td>\n",
       "      <td>76</td>\n",
       "      <td>161</td>\n",
       "      <td>0.472050</td>\n",
       "    </tr>\n",
       "    <tr>\n",
       "      <th>1</th>\n",
       "      <td>1990</td>\n",
       "      <td>20558333</td>\n",
       "      <td>BOS</td>\n",
       "      <td>88</td>\n",
       "      <td>162</td>\n",
       "      <td>0.543210</td>\n",
       "    </tr>\n",
       "    <tr>\n",
       "      <th>2</th>\n",
       "      <td>1990</td>\n",
       "      <td>21720000</td>\n",
       "      <td>ANA</td>\n",
       "      <td>80</td>\n",
       "      <td>162</td>\n",
       "      <td>0.493827</td>\n",
       "    </tr>\n",
       "    <tr>\n",
       "      <th>3</th>\n",
       "      <td>1990</td>\n",
       "      <td>9491500</td>\n",
       "      <td>CHW</td>\n",
       "      <td>94</td>\n",
       "      <td>162</td>\n",
       "      <td>0.580247</td>\n",
       "    </tr>\n",
       "    <tr>\n",
       "      <th>4</th>\n",
       "      <td>1990</td>\n",
       "      <td>14487000</td>\n",
       "      <td>CLE</td>\n",
       "      <td>77</td>\n",
       "      <td>162</td>\n",
       "      <td>0.475309</td>\n",
       "    </tr>\n",
       "  </tbody>\n",
       "</table>\n",
       "</div>"
      ],
      "text/plain": [
       "   yearID  total_payroll franchID   W    G   win_pct\n",
       "0    1990        9680084      BAL  76  161  0.472050\n",
       "1    1990       20558333      BOS  88  162  0.543210\n",
       "2    1990       21720000      ANA  80  162  0.493827\n",
       "3    1990        9491500      CHW  94  162  0.580247\n",
       "4    1990       14487000      CLE  77  162  0.475309"
      ]
     },
     "execution_count": 42,
     "metadata": {},
     "output_type": "execute_result"
    }
   ],
   "source": [
    "baseball_df['win_pct'] = baseball_df['W'] / baseball_df['G']\n",
    "baseball_df.head()"
   ]
  },
  {
   "cell_type": "markdown",
   "metadata": {},
   "source": [
    "### Task 4\n",
    "**Print the mean payroll for the New York Yankees (`franchID`=NYY) in the years 2000-2014. Do the same for the Oakland Athletics (`franchID`=OAK).**"
   ]
  },
  {
   "cell_type": "code",
   "execution_count": 43,
   "metadata": {},
   "outputs": [
    {
     "name": "stdout",
     "output_type": "stream",
     "text": [
      "Mean Payroll for NYY from 2000-2014: 180248411.2\n",
      "Mean Payroll for OAK from 2000-2014: 55472697.2\n"
     ]
    }
   ],
   "source": [
    "baseball_df_2000_to_2014 = baseball_df[np.logical_and(baseball_df['yearID'] >= 2000, baseball_df['yearID'] <= 2014)]\n",
    "\n",
    "baseball_df_2000_to_2014_nyy = baseball_df_2000_to_2014[baseball_df_2000_to_2014['franchID'] == 'NYY']\n",
    "print(\"Mean Payroll for NYY from 2000-2014:\", baseball_df_2000_to_2014_nyy['total_payroll'].mean())\n",
    "\n",
    "baseball_df_2000_to_2014_oak = baseball_df_2000_to_2014[baseball_df_2000_to_2014['franchID'] == 'OAK']\n",
    "print(\"Mean Payroll for OAK from 2000-2014:\", baseball_df_2000_to_2014_oak['total_payroll'].mean())"
   ]
  },
  {
   "cell_type": "markdown",
   "metadata": {},
   "source": [
    "### Task 5\n",
    "**Find the team with the lowest average payroll from 1990-2015 (the entire dataset). Find the team with the highest average payroll from 1990-2015 as well.**"
   ]
  },
  {
   "cell_type": "code",
   "execution_count": 44,
   "metadata": {},
   "outputs": [
    {
     "name": "stdout",
     "output_type": "stream",
     "text": [
      "Team with Lowest Average Payroll:  PIT\n",
      "Lowest Average Payroll:  37923528.72\n",
      "Team with Highest Average Payroll:  NYY\n",
      "Highest Average Payroll:  127869265.44\n"
     ]
    }
   ],
   "source": [
    "def find_avg_payroll(franchID):\n",
    "  return baseball_df[baseball_df['franchID'] == franchID]['total_payroll'].mean()\n",
    "\n",
    "# Instead of using .apply(), you can also just iterate through baseball_df['franchID'].unique() and use the \n",
    "# find_avg_payroll() function in each iteration, and store the average payrolls in a np.array or pd.Series,\n",
    "# and fetch min() and max() after the for-loop.\n",
    "baseball_df['avg_payroll'] = baseball_df['franchID'].apply(find_avg_payroll)\n",
    "print('Team with Lowest Average Payroll: ', baseball_df.iloc[baseball_df['avg_payroll'].argmin()]['franchID'])\n",
    "print('Lowest Average Payroll: ', baseball_df['avg_payroll'].min())\n",
    "print('Team with Highest Average Payroll: ', baseball_df.iloc[baseball_df['avg_payroll'].argmax()]['franchID'])\n",
    "print('Highest Average Payroll: ', baseball_df['avg_payroll'].max())"
   ]
  },
  {
   "cell_type": "markdown",
   "metadata": {},
   "source": [
    "### Task 6\n",
    "**Create a new column called `payroll_efficiency`, which is basically the `total_payroll` column divided by the `W` column. This will give a rough estimate of how efficient each team is at using their payroll to get wins.**\n",
    "\n",
    "A lower `payroll_efficiency` value means that the team is more efficient since a low value is the result of a low numerator (low payroll spending) and a high denominator (high # of wins)."
   ]
  },
  {
   "cell_type": "code",
   "execution_count": 45,
   "metadata": {},
   "outputs": [
    {
     "data": {
      "text/html": [
       "<div>\n",
       "<style scoped>\n",
       "    .dataframe tbody tr th:only-of-type {\n",
       "        vertical-align: middle;\n",
       "    }\n",
       "\n",
       "    .dataframe tbody tr th {\n",
       "        vertical-align: top;\n",
       "    }\n",
       "\n",
       "    .dataframe thead th {\n",
       "        text-align: right;\n",
       "    }\n",
       "</style>\n",
       "<table border=\"1\" class=\"dataframe\">\n",
       "  <thead>\n",
       "    <tr style=\"text-align: right;\">\n",
       "      <th></th>\n",
       "      <th>yearID</th>\n",
       "      <th>total_payroll</th>\n",
       "      <th>franchID</th>\n",
       "      <th>W</th>\n",
       "      <th>G</th>\n",
       "      <th>win_pct</th>\n",
       "      <th>avg_payroll</th>\n",
       "      <th>payroll_efficiency</th>\n",
       "    </tr>\n",
       "  </thead>\n",
       "  <tbody>\n",
       "    <tr>\n",
       "      <th>0</th>\n",
       "      <td>1990</td>\n",
       "      <td>9680084</td>\n",
       "      <td>BAL</td>\n",
       "      <td>76</td>\n",
       "      <td>161</td>\n",
       "      <td>0.472050</td>\n",
       "      <td>62797222.12</td>\n",
       "      <td>127369.526316</td>\n",
       "    </tr>\n",
       "    <tr>\n",
       "      <th>1</th>\n",
       "      <td>1990</td>\n",
       "      <td>20558333</td>\n",
       "      <td>BOS</td>\n",
       "      <td>88</td>\n",
       "      <td>162</td>\n",
       "      <td>0.543210</td>\n",
       "      <td>94635165.16</td>\n",
       "      <td>233617.420455</td>\n",
       "    </tr>\n",
       "    <tr>\n",
       "      <th>2</th>\n",
       "      <td>1990</td>\n",
       "      <td>21720000</td>\n",
       "      <td>ANA</td>\n",
       "      <td>80</td>\n",
       "      <td>162</td>\n",
       "      <td>0.493827</td>\n",
       "      <td>74239948.68</td>\n",
       "      <td>271500.000000</td>\n",
       "    </tr>\n",
       "    <tr>\n",
       "      <th>3</th>\n",
       "      <td>1990</td>\n",
       "      <td>9491500</td>\n",
       "      <td>CHW</td>\n",
       "      <td>94</td>\n",
       "      <td>162</td>\n",
       "      <td>0.580247</td>\n",
       "      <td>66212115.72</td>\n",
       "      <td>100973.404255</td>\n",
       "    </tr>\n",
       "    <tr>\n",
       "      <th>4</th>\n",
       "      <td>1990</td>\n",
       "      <td>14487000</td>\n",
       "      <td>CLE</td>\n",
       "      <td>77</td>\n",
       "      <td>162</td>\n",
       "      <td>0.475309</td>\n",
       "      <td>54564408.48</td>\n",
       "      <td>188142.857143</td>\n",
       "    </tr>\n",
       "  </tbody>\n",
       "</table>\n",
       "</div>"
      ],
      "text/plain": [
       "   yearID  total_payroll franchID   W    G   win_pct  avg_payroll  \\\n",
       "0    1990        9680084      BAL  76  161  0.472050  62797222.12   \n",
       "1    1990       20558333      BOS  88  162  0.543210  94635165.16   \n",
       "2    1990       21720000      ANA  80  162  0.493827  74239948.68   \n",
       "3    1990        9491500      CHW  94  162  0.580247  66212115.72   \n",
       "4    1990       14487000      CLE  77  162  0.475309  54564408.48   \n",
       "\n",
       "   payroll_efficiency  \n",
       "0       127369.526316  \n",
       "1       233617.420455  \n",
       "2       271500.000000  \n",
       "3       100973.404255  \n",
       "4       188142.857143  "
      ]
     },
     "execution_count": 45,
     "metadata": {},
     "output_type": "execute_result"
    }
   ],
   "source": [
    "baseball_df['payroll_efficiency'] = baseball_df['total_payroll'] / baseball_df['W']\n",
    "baseball_df.head()"
   ]
  },
  {
   "cell_type": "markdown",
   "metadata": {},
   "source": [
    "### Task 7\n",
    "**Find the team with the lowest average `payroll_efficiency` from 1990-2015 to get a rough estimate of the most efficient team. Find the team with the highest average `payroll_efficiency` to find the team that is least efficient.**"
   ]
  },
  {
   "cell_type": "code",
   "execution_count": 46,
   "metadata": {},
   "outputs": [
    {
     "name": "stdout",
     "output_type": "stream",
     "text": [
      "Team with Lowest Average Payroll Efficiency:  PIT\n",
      "Lowest Average Payroll Efficiency:  521770.86931934603\n",
      "Team with Highest Average Payroll Efficiency:  NYY\n",
      "Highest Average Payroll Efficiency:  1374780.318820982\n"
     ]
    }
   ],
   "source": [
    "# Use .apply() approach from before to creeate a new column 'avg_payroll_efficiency'\n",
    "\n",
    "def find_avg_payroll_efficiency(franchID):\n",
    "  return baseball_df[baseball_df['franchID'] == franchID]['payroll_efficiency'].mean()\n",
    "\n",
    "# Instead of using .apply(), you can also just iterate through baseball_df['franchID'].unique() and use the \n",
    "# find_avg_payroll() function in each iteration, and store the average payrolls in a np.array or pd.Series,\n",
    "# and fetch min() and max() after the for-loop.\n",
    "baseball_df['avg_payroll_efficiency'] = baseball_df['franchID'].apply(find_avg_payroll_efficiency)\n",
    "\n",
    "print('Team with Lowest Average Payroll Efficiency: ', baseball_df.iloc[baseball_df['avg_payroll_efficiency'].argmin()]['franchID'])\n",
    "print('Lowest Average Payroll Efficiency: ', baseball_df['avg_payroll_efficiency'].min())\n",
    "print('Team with Highest Average Payroll Efficiency: ', baseball_df.iloc[baseball_df['avg_payroll_efficiency'].argmax()]['franchID'])\n",
    "print('Highest Average Payroll Efficiency: ', baseball_df['avg_payroll_efficiency'].max())"
   ]
  }
 ],
 "metadata": {
  "interpreter": {
   "hash": "2339bf29456ab268fe635b9017f2d31aee31ae86241757b15913e309268e7cb1"
  },
  "kernelspec": {
   "display_name": "Python 3.7.4 ('base')",
   "language": "python",
   "name": "python3"
  },
  "language_info": {
   "codemirror_mode": {
    "name": "ipython",
    "version": 3
   },
   "file_extension": ".py",
   "mimetype": "text/x-python",
   "name": "python",
   "nbconvert_exporter": "python",
   "pygments_lexer": "ipython3",
   "version": "3.7.4"
  }
 },
 "nbformat": 4,
 "nbformat_minor": 2
}
