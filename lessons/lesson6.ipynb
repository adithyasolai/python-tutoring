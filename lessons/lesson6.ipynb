{
 "cells": [
  {
   "cell_type": "markdown",
   "metadata": {},
   "source": [
    "# Lesson 6\n",
    "### Written by Adithya Solai"
   ]
  },
  {
   "cell_type": "markdown",
   "metadata": {
    "collapsed": true
   },
   "source": [
    "# Simple Linear Regression"
   ]
  },
  {
   "cell_type": "markdown",
   "metadata": {},
   "source": [
    "-A way to relate two variables with statistical confidence.\n",
    "\n",
    "-Ex: Does Mortality increase as Age increases?\n",
    "\n",
    "-Ex: Does the Error Rate decrease as Time Practiced increases?\n",
    "\n",
    "*For now, we will only cover linear relationships like \"Y goes down as X goes up\". It is possible to expand Linear Regression to a generalized \"Polynomial Regression\" that can handle more nuanced relationships like quadratic (or any polynomial relationship), log, etc.*"
   ]
  },
  {
   "cell_type": "markdown",
   "metadata": {},
   "source": [
    "**Let's run a Linear Regression in Python on our NBA season average data.**"
   ]
  },
  {
   "cell_type": "code",
   "execution_count": 1,
   "metadata": {},
   "outputs": [
    {
     "name": "stderr",
     "output_type": "stream",
     "text": [
      "c:\\Users\\pratb\\Anaconda3\\lib\\site-packages\\statsmodels\\tools\\_testing.py:19: FutureWarning: pandas.util.testing is deprecated. Use the functions in the public API at pandas.testing instead.\n",
      "  import pandas.util.testing as tm\n"
     ]
    }
   ],
   "source": [
    "import pandas as pd\n",
    "import numpy as np\n",
    "\n",
    "# This library is used to do simple plots before running our regression\n",
    "import matplotlib.pyplot as plt\n",
    "\n",
    "# Two libraries you can do linear regression with.\n",
    "from sklearn import linear_model\n",
    "import statsmodels.api as sm\n",
    "\n",
    "# Used for displaying images from the internet I found to help learn this.\n",
    "from IPython.display import Image"
   ]
  },
  {
   "cell_type": "markdown",
   "metadata": {},
   "source": [
    "**Just load the pre-made data from our csv file for now.**"
   ]
  },
  {
   "cell_type": "code",
   "execution_count": 2,
   "metadata": {},
   "outputs": [
    {
     "data": {
      "text/html": [
       "<div>\n",
       "<style scoped>\n",
       "    .dataframe tbody tr th:only-of-type {\n",
       "        vertical-align: middle;\n",
       "    }\n",
       "\n",
       "    .dataframe tbody tr th {\n",
       "        vertical-align: top;\n",
       "    }\n",
       "\n",
       "    .dataframe thead th {\n",
       "        text-align: right;\n",
       "    }\n",
       "</style>\n",
       "<table border=\"1\" class=\"dataframe\">\n",
       "  <thead>\n",
       "    <tr style=\"text-align: right;\">\n",
       "      <th></th>\n",
       "      <th>Year</th>\n",
       "      <th>Player</th>\n",
       "      <th>Tm</th>\n",
       "      <th>start_pct</th>\n",
       "      <th>MP</th>\n",
       "      <th>PTS</th>\n",
       "      <th>TRB</th>\n",
       "      <th>AST</th>\n",
       "      <th>FGA</th>\n",
       "      <th>FG%</th>\n",
       "      <th>...</th>\n",
       "      <th>3P%</th>\n",
       "      <th>2PA</th>\n",
       "      <th>2P%</th>\n",
       "      <th>FTA</th>\n",
       "      <th>FT%</th>\n",
       "      <th>STL</th>\n",
       "      <th>BLK</th>\n",
       "      <th>TOV</th>\n",
       "      <th>PF</th>\n",
       "      <th>win_pct</th>\n",
       "    </tr>\n",
       "  </thead>\n",
       "  <tbody>\n",
       "    <tr>\n",
       "      <th>0</th>\n",
       "      <td>2001</td>\n",
       "      <td>Shareef Abdur-Rahim</td>\n",
       "      <td>VAN</td>\n",
       "      <td>1.000000</td>\n",
       "      <td>40.0</td>\n",
       "      <td>20.5</td>\n",
       "      <td>9.1</td>\n",
       "      <td>3.1</td>\n",
       "      <td>15.8</td>\n",
       "      <td>0.472</td>\n",
       "      <td>...</td>\n",
       "      <td>0.188</td>\n",
       "      <td>15.0</td>\n",
       "      <td>0.487</td>\n",
       "      <td>6.6</td>\n",
       "      <td>0.834</td>\n",
       "      <td>1.1</td>\n",
       "      <td>1.0</td>\n",
       "      <td>2.9</td>\n",
       "      <td>2.9</td>\n",
       "      <td>0.280488</td>\n",
       "    </tr>\n",
       "    <tr>\n",
       "      <th>1</th>\n",
       "      <td>2001</td>\n",
       "      <td>Mike Bibby</td>\n",
       "      <td>VAN</td>\n",
       "      <td>1.000000</td>\n",
       "      <td>38.9</td>\n",
       "      <td>15.9</td>\n",
       "      <td>3.7</td>\n",
       "      <td>8.4</td>\n",
       "      <td>14.1</td>\n",
       "      <td>0.454</td>\n",
       "      <td>...</td>\n",
       "      <td>0.379</td>\n",
       "      <td>10.6</td>\n",
       "      <td>0.478</td>\n",
       "      <td>2.3</td>\n",
       "      <td>0.761</td>\n",
       "      <td>1.3</td>\n",
       "      <td>0.1</td>\n",
       "      <td>3.0</td>\n",
       "      <td>1.8</td>\n",
       "      <td>0.280488</td>\n",
       "    </tr>\n",
       "    <tr>\n",
       "      <th>2</th>\n",
       "      <td>2001</td>\n",
       "      <td>Michael Dickerson</td>\n",
       "      <td>VAN</td>\n",
       "      <td>0.985714</td>\n",
       "      <td>37.4</td>\n",
       "      <td>16.3</td>\n",
       "      <td>3.3</td>\n",
       "      <td>3.3</td>\n",
       "      <td>14.6</td>\n",
       "      <td>0.417</td>\n",
       "      <td>...</td>\n",
       "      <td>0.374</td>\n",
       "      <td>11.3</td>\n",
       "      <td>0.429</td>\n",
       "      <td>3.9</td>\n",
       "      <td>0.763</td>\n",
       "      <td>0.9</td>\n",
       "      <td>0.4</td>\n",
       "      <td>2.3</td>\n",
       "      <td>3.0</td>\n",
       "      <td>0.280488</td>\n",
       "    </tr>\n",
       "    <tr>\n",
       "      <th>3</th>\n",
       "      <td>2001</td>\n",
       "      <td>Othella Harrington</td>\n",
       "      <td>VAN</td>\n",
       "      <td>0.909091</td>\n",
       "      <td>28.8</td>\n",
       "      <td>10.9</td>\n",
       "      <td>6.6</td>\n",
       "      <td>0.8</td>\n",
       "      <td>8.8</td>\n",
       "      <td>0.466</td>\n",
       "      <td>...</td>\n",
       "      <td>0.000</td>\n",
       "      <td>8.7</td>\n",
       "      <td>0.470</td>\n",
       "      <td>3.5</td>\n",
       "      <td>0.779</td>\n",
       "      <td>0.4</td>\n",
       "      <td>0.6</td>\n",
       "      <td>2.4</td>\n",
       "      <td>3.1</td>\n",
       "      <td>0.280488</td>\n",
       "    </tr>\n",
       "    <tr>\n",
       "      <th>4</th>\n",
       "      <td>2001</td>\n",
       "      <td>Bryant Reeves</td>\n",
       "      <td>VAN</td>\n",
       "      <td>0.640000</td>\n",
       "      <td>24.4</td>\n",
       "      <td>8.3</td>\n",
       "      <td>6.0</td>\n",
       "      <td>1.1</td>\n",
       "      <td>7.4</td>\n",
       "      <td>0.460</td>\n",
       "      <td>...</td>\n",
       "      <td>0.250</td>\n",
       "      <td>7.3</td>\n",
       "      <td>0.462</td>\n",
       "      <td>1.9</td>\n",
       "      <td>0.796</td>\n",
       "      <td>0.6</td>\n",
       "      <td>0.7</td>\n",
       "      <td>1.2</td>\n",
       "      <td>3.2</td>\n",
       "      <td>0.280488</td>\n",
       "    </tr>\n",
       "  </tbody>\n",
       "</table>\n",
       "<p>5 rows × 21 columns</p>\n",
       "</div>"
      ],
      "text/plain": [
       "   Year               Player   Tm  start_pct    MP   PTS  TRB  AST   FGA  \\\n",
       "0  2001  Shareef Abdur-Rahim  VAN   1.000000  40.0  20.5  9.1  3.1  15.8   \n",
       "1  2001           Mike Bibby  VAN   1.000000  38.9  15.9  3.7  8.4  14.1   \n",
       "2  2001    Michael Dickerson  VAN   0.985714  37.4  16.3  3.3  3.3  14.6   \n",
       "3  2001   Othella Harrington  VAN   0.909091  28.8  10.9  6.6  0.8   8.8   \n",
       "4  2001        Bryant Reeves  VAN   0.640000  24.4   8.3  6.0  1.1   7.4   \n",
       "\n",
       "     FG%  ...    3P%   2PA    2P%  FTA    FT%  STL  BLK  TOV   PF   win_pct  \n",
       "0  0.472  ...  0.188  15.0  0.487  6.6  0.834  1.1  1.0  2.9  2.9  0.280488  \n",
       "1  0.454  ...  0.379  10.6  0.478  2.3  0.761  1.3  0.1  3.0  1.8  0.280488  \n",
       "2  0.417  ...  0.374  11.3  0.429  3.9  0.763  0.9  0.4  2.3  3.0  0.280488  \n",
       "3  0.466  ...  0.000   8.7  0.470  3.5  0.779  0.4  0.6  2.4  3.1  0.280488  \n",
       "4  0.460  ...  0.250   7.3  0.462  1.9  0.796  0.6  0.7  1.2  3.2  0.280488  \n",
       "\n",
       "[5 rows x 21 columns]"
      ]
     },
     "execution_count": 2,
     "metadata": {},
     "output_type": "execute_result"
    }
   ],
   "source": [
    "nba = pd.read_csv(\"./datasets/NBA Reg Season Player Avgs with Win Pct 2000-2019.csv\")\n",
    "nba.head()"
   ]
  },
  {
   "cell_type": "markdown",
   "metadata": {},
   "source": [
    "**Let's look at all the column names to help hypothesize which two variables might be related.**"
   ]
  },
  {
   "cell_type": "code",
   "execution_count": 3,
   "metadata": {},
   "outputs": [
    {
     "data": {
      "text/plain": [
       "Index(['Year', 'Player', 'Tm', 'start_pct', 'MP', 'PTS', 'TRB', 'AST', 'FGA',\n",
       "       'FG%', '3PA', '3P%', '2PA', '2P%', 'FTA', 'FT%', 'STL', 'BLK', 'TOV',\n",
       "       'PF', 'win_pct'],\n",
       "      dtype='object')"
      ]
     },
     "execution_count": 3,
     "metadata": {},
     "output_type": "execute_result"
    }
   ],
   "source": [
    "nba.columns"
   ]
  },
  {
   "cell_type": "markdown",
   "metadata": {},
   "source": [
    "**Maybe we can expect that points scored (`PTS`) goes up as minutes played (`MP`) goes up?**\n",
    "\n",
    "Let's first make a scatterplot of these two columns to explore the data."
   ]
  },
  {
   "cell_type": "code",
   "execution_count": 4,
   "metadata": {},
   "outputs": [
    {
     "name": "stderr",
     "output_type": "stream",
     "text": [
      "c:\\Users\\pratb\\Anaconda3\\lib\\site-packages\\matplotlib\\cbook\\__init__.py:1402: FutureWarning: Support for multi-dimensional indexing (e.g. `obj[:, None]`) is deprecated and will be removed in a future version.  Convert to a numpy array before indexing instead.\n",
      "  x[:, None]\n",
      "c:\\Users\\pratb\\Anaconda3\\lib\\site-packages\\matplotlib\\axes\\_base.py:276: FutureWarning: Support for multi-dimensional indexing (e.g. `obj[:, None]`) is deprecated and will be removed in a future version.  Convert to a numpy array before indexing instead.\n",
      "  x = x[:, np.newaxis]\n",
      "c:\\Users\\pratb\\Anaconda3\\lib\\site-packages\\matplotlib\\axes\\_base.py:278: FutureWarning: Support for multi-dimensional indexing (e.g. `obj[:, None]`) is deprecated and will be removed in a future version.  Convert to a numpy array before indexing instead.\n",
      "  y = y[:, np.newaxis]\n"
     ]
    },
    {
     "data": {
      "image/png": "[encoded data removed]",
      "text/plain": [
       "<Figure size 432x288 with 1 Axes>"
      ]
     },
     "metadata": {
      "needs_background": "light"
     },
     "output_type": "display_data"
    }
   ],
   "source": [
    "plt.scatter(x=nba['MP'], y=nba['PTS'])\n",
    "plt.title(\"Points Scored vs Minutes Played\")\n",
    "plt.xlabel(\"Minutes Played\")\n",
    "plt.ylabel(\"Points Scored\")\n",
    "\n",
    "# m is slope and b is intercept of linear regression line\n",
    "x=nba['MP']\n",
    "y=nba['PTS']\n",
    "m, b = np.polyfit(x,y,1)\n",
    "\n",
    "# x is still x, but y = mx + b\n",
    "plt.plot(x, m*x + b, 'r')    \n",
    "    \n",
    "plt.show()"
   ]
  },
  {
   "cell_type": "markdown",
   "metadata": {},
   "source": [
    "**It seems like the BEST way to characterize this relationship would be a quadratic relationship (`PTS` = `MP` ^ 2).**\n",
    "\n",
    "However, let's just test a simple, **positive**, linear relationship for now."
   ]
  },
  {
   "cell_type": "markdown",
   "metadata": {},
   "source": [
    "### Hypothesis Testing\n",
    "\n",
    "Before running the linear regression model, we need to formally define what exactly we are hoping to test, and what the possible outcomes of our study could be."
   ]
  },
  {
   "cell_type": "markdown",
   "metadata": {},
   "source": [
    "Ho: Points & MP have NO relationship.\n",
    "\n",
    "Ha: Points & MP have a positive, linear relationship.\n",
    "\n",
    "Ho: m=0\n",
    "\n",
    "Ha: m>0"
   ]
  },
  {
   "cell_type": "code",
   "execution_count": 5,
   "metadata": {
    "scrolled": false
   },
   "outputs": [
    {
     "data": {
      "image/jpeg": "[encoded data removed]",
      "text/plain": [
       "<IPython.core.display.Image object>"
      ]
     },
     "execution_count": 5,
     "metadata": {},
     "output_type": "execute_result"
    }
   ],
   "source": [
    "Image(\"./images/hypothesisTesting.jpg\")"
   ]
  },
  {
   "cell_type": "markdown",
   "metadata": {},
   "source": [
    "**t-test**\n",
    "95% confident\n",
    "Is our t-value greater than the t-critical for 95%\n",
    "t-values > 1.96\n",
    "\n",
    "**p-values**"
   ]
  },
  {
   "cell_type": "markdown",
   "metadata": {},
   "source": [
    "y = mx + b\n",
    "\n",
    "PTS = m(MP) + b"
   ]
  },
  {
   "cell_type": "code",
   "execution_count": 6,
   "metadata": {},
   "outputs": [
    {
     "name": "stdout",
     "output_type": "stream",
     "text": [
      "Coefficient of minutes played in our model:  [0.76379986]\n",
      "Intercept in our model:  -9.762575722948228\n",
      "R^2 Score:  0.6433337196726847\n"
     ]
    }
   ],
   "source": [
    "# Only using 'Year' column, so we need to reshape to fit scikit's fit() function\n",
    "regr_X = np.array(nba['MP']).reshape(-1,1)\n",
    "# Response is '3PA', or the average # of 3-pointers attempted Per Game\n",
    "regr_y = nba['PTS']\n",
    "\n",
    "# Building a linear regression model using scikit's sklearn\n",
    "regr = linear_model.LinearRegression()\n",
    "\n",
    "# Calculating the parameters of our regression model using the fit() method\n",
    "lin_model = regr.fit(X=regr_X, y=regr_y)\n",
    "\n",
    "# Coefficient of year in our model\n",
    "print(\"Coefficient of minutes played in our model: \", lin_model.coef_)\n",
    "\n",
    "# Intercept Value in our model\n",
    "print(\"Intercept in our model: \", lin_model.intercept_)\n",
    "\n",
    "# Coefficient of Determination Score\n",
    "print(\"R^2 Score: \", regr.score(X=regr_X, y=regr_y))"
   ]
  },
  {
   "cell_type": "markdown",
   "metadata": {},
   "source": [
    "PTS = (0.76) MP - 9.76  "
   ]
  },
  {
   "cell_type": "code",
   "execution_count": 7,
   "metadata": {
    "scrolled": false
   },
   "outputs": [
    {
     "name": "stdout",
     "output_type": "stream",
     "text": [
      "                            OLS Regression Results                            \n",
      "==============================================================================\n",
      "Dep. Variable:                    PTS   R-squared:                       0.643\n",
      "Model:                            OLS   Adj. R-squared:                  0.643\n",
      "Method:                 Least Squares   F-statistic:                     6328.\n",
      "Date:                Tue, 31 May 2022   Prob (F-statistic):               0.00\n",
      "Time:                        23:43:55   Log-Likelihood:                -9302.1\n",
      "No. Observations:                3510   AIC:                         1.861e+04\n",
      "Df Residuals:                    3508   BIC:                         1.862e+04\n",
      "Df Model:                           1                                         \n",
      "Covariance Type:            nonrobust                                         \n",
      "==============================================================================\n",
      "                 coef    std err          t      P>|t|      [0.025      0.975]\n",
      "------------------------------------------------------------------------------\n",
      "Constant      -9.7626      0.296    -33.002      0.000     -10.343      -9.183\n",
      "MP             0.7638      0.010     79.546      0.000       0.745       0.783\n",
      "==============================================================================\n",
      "Omnibus:                      191.588   Durbin-Watson:                   2.021\n",
      "Prob(Omnibus):                  0.000   Jarque-Bera (JB):              271.326\n",
      "Skew:                           0.492   Prob(JB):                     1.21e-59\n",
      "Kurtosis:                       3.943   Cond. No.                         158.\n",
      "==============================================================================\n",
      "\n",
      "Warnings:\n",
      "[1] Standard Errors assume that the covariance matrix of the errors is correctly specified.\n"
     ]
    }
   ],
   "source": [
    "# Need to add a column of 1s to create a constant term\n",
    "# statsmodels.api does not do it for us like sklearn does\n",
    "summary_X = sm.add_constant(regr_X)\n",
    "\n",
    "# Make into dataframes to make sure variable names are shown in output\n",
    "summary_X = pd.DataFrame(summary_X).reset_index(drop=True)\n",
    "summary_X.columns = ['Constant', 'MP']\n",
    "summary_y = pd.DataFrame(regr_y).reset_index(drop=True)\n",
    "\n",
    "summary_est = sm.OLS(summary_y, summary_X)\n",
    "\n",
    "print(summary_est.fit().summary())"
   ]
  },
  {
   "cell_type": "markdown",
   "metadata": {},
   "source": [
    "t-critical = 1.960\n",
    "Our model's t-value = 79.546\n",
    "\n",
    "Since our t-value was > t*, we have statistically-significant evidence to suggest at a 95% confidence level that Minutes Played and Points Scored have a positive, linear relationship "
   ]
  },
  {
   "cell_type": "markdown",
   "metadata": {
    "collapsed": true
   },
   "source": [
    "# Multiple Linear Regression"
   ]
  },
  {
   "cell_type": "markdown",
   "metadata": {},
   "source": [
    "-A way to determine the relationship between more than 1 predictor and 1 response variable.\n",
    "\n",
    "-Ex: Out of exercise, sleep, and daily calories, which variables are most significant/important in predicting a human's lifespan?\n",
    "\n",
    "-Ex: Out of houshold income, ethnicity, and IQ, which variables are most significant/important in predicting a student's future salary?"
   ]
  },
  {
   "cell_type": "markdown",
   "metadata": {},
   "source": [
    "**Let's tackle the following question about our NBA dataset using Multiple Linear Regression:**\n",
    "\n",
    "*Out of points scored (`PTS`), assists (`AST`), rebounds (`TRB`), steals (`STL`), blocks (`BLK`), 3-pt% (`3P%`), 2-pt% (`2P%`), free throw % (`FT%`), turnovers (`TOV`), and personal fouls (`PF`), which season average stat categories of a player are most significant/important in predicting their team's overall win percentage (`win_pct`)?*"
   ]
  },
  {
   "cell_type": "markdown",
   "metadata": {},
   "source": [
    "### We need to do some extra data preparation before we can run the Multiple Linear Regression (or MLR)"
   ]
  },
  {
   "cell_type": "markdown",
   "metadata": {},
   "source": [
    "We don't care about `Year`, `Player` (the player's name), `Tm`, or `start_pct`, since these don't help us answer which player metrics lead to more wins.\n",
    "\n",
    "We will also drop `FGA` & `FG%` (field-goal metrics) because those columns can be derived from 3PA, 3P%, 2PA, and 2P%. *(\"field goal\" is just a a term to describe non-Free Throw points earned (3-pointers and 2-pointers)*\n",
    "\n",
    "Keeping these columns could cause severe multicollinearity, which adds noise to our final Multiple Linear Regression. Read more about multicollinearity here: https://www.statisticshowto.com/multicollinearity/. Being able to transform other predictor variables into FGA and FG% makes these variables the worst case scenario for multicollinearity, since the relationship is exact, direct, and CAUSAL.\n",
    "\n",
    "Also, we will create a new df `nba_mlr` to keep the original `nba` df intact for future analysis."
   ]
  },
  {
   "cell_type": "code",
   "execution_count": 8,
   "metadata": {},
   "outputs": [
    {
     "data": {
      "text/html": [
       "<div>\n",
       "<style scoped>\n",
       "    .dataframe tbody tr th:only-of-type {\n",
       "        vertical-align: middle;\n",
       "    }\n",
       "\n",
       "    .dataframe tbody tr th {\n",
       "        vertical-align: top;\n",
       "    }\n",
       "\n",
       "    .dataframe thead th {\n",
       "        text-align: right;\n",
       "    }\n",
       "</style>\n",
       "<table border=\"1\" class=\"dataframe\">\n",
       "  <thead>\n",
       "    <tr style=\"text-align: right;\">\n",
       "      <th></th>\n",
       "      <th>Year</th>\n",
       "      <th>Player</th>\n",
       "      <th>Tm</th>\n",
       "      <th>start_pct</th>\n",
       "      <th>MP</th>\n",
       "      <th>PTS</th>\n",
       "      <th>TRB</th>\n",
       "      <th>AST</th>\n",
       "      <th>FGA</th>\n",
       "      <th>FG%</th>\n",
       "      <th>...</th>\n",
       "      <th>3P%</th>\n",
       "      <th>2PA</th>\n",
       "      <th>2P%</th>\n",
       "      <th>FTA</th>\n",
       "      <th>FT%</th>\n",
       "      <th>STL</th>\n",
       "      <th>BLK</th>\n",
       "      <th>TOV</th>\n",
       "      <th>PF</th>\n",
       "      <th>win_pct</th>\n",
       "    </tr>\n",
       "  </thead>\n",
       "  <tbody>\n",
       "    <tr>\n",
       "      <th>0</th>\n",
       "      <td>2001</td>\n",
       "      <td>Shareef Abdur-Rahim</td>\n",
       "      <td>VAN</td>\n",
       "      <td>1.000000</td>\n",
       "      <td>40.0</td>\n",
       "      <td>20.5</td>\n",
       "      <td>9.1</td>\n",
       "      <td>3.1</td>\n",
       "      <td>15.8</td>\n",
       "      <td>0.472</td>\n",
       "      <td>...</td>\n",
       "      <td>0.188</td>\n",
       "      <td>15.0</td>\n",
       "      <td>0.487</td>\n",
       "      <td>6.6</td>\n",
       "      <td>0.834</td>\n",
       "      <td>1.1</td>\n",
       "      <td>1.0</td>\n",
       "      <td>2.9</td>\n",
       "      <td>2.9</td>\n",
       "      <td>0.280488</td>\n",
       "    </tr>\n",
       "    <tr>\n",
       "      <th>1</th>\n",
       "      <td>2001</td>\n",
       "      <td>Mike Bibby</td>\n",
       "      <td>VAN</td>\n",
       "      <td>1.000000</td>\n",
       "      <td>38.9</td>\n",
       "      <td>15.9</td>\n",
       "      <td>3.7</td>\n",
       "      <td>8.4</td>\n",
       "      <td>14.1</td>\n",
       "      <td>0.454</td>\n",
       "      <td>...</td>\n",
       "      <td>0.379</td>\n",
       "      <td>10.6</td>\n",
       "      <td>0.478</td>\n",
       "      <td>2.3</td>\n",
       "      <td>0.761</td>\n",
       "      <td>1.3</td>\n",
       "      <td>0.1</td>\n",
       "      <td>3.0</td>\n",
       "      <td>1.8</td>\n",
       "      <td>0.280488</td>\n",
       "    </tr>\n",
       "    <tr>\n",
       "      <th>2</th>\n",
       "      <td>2001</td>\n",
       "      <td>Michael Dickerson</td>\n",
       "      <td>VAN</td>\n",
       "      <td>0.985714</td>\n",
       "      <td>37.4</td>\n",
       "      <td>16.3</td>\n",
       "      <td>3.3</td>\n",
       "      <td>3.3</td>\n",
       "      <td>14.6</td>\n",
       "      <td>0.417</td>\n",
       "      <td>...</td>\n",
       "      <td>0.374</td>\n",
       "      <td>11.3</td>\n",
       "      <td>0.429</td>\n",
       "      <td>3.9</td>\n",
       "      <td>0.763</td>\n",
       "      <td>0.9</td>\n",
       "      <td>0.4</td>\n",
       "      <td>2.3</td>\n",
       "      <td>3.0</td>\n",
       "      <td>0.280488</td>\n",
       "    </tr>\n",
       "    <tr>\n",
       "      <th>3</th>\n",
       "      <td>2001</td>\n",
       "      <td>Othella Harrington</td>\n",
       "      <td>VAN</td>\n",
       "      <td>0.909091</td>\n",
       "      <td>28.8</td>\n",
       "      <td>10.9</td>\n",
       "      <td>6.6</td>\n",
       "      <td>0.8</td>\n",
       "      <td>8.8</td>\n",
       "      <td>0.466</td>\n",
       "      <td>...</td>\n",
       "      <td>0.000</td>\n",
       "      <td>8.7</td>\n",
       "      <td>0.470</td>\n",
       "      <td>3.5</td>\n",
       "      <td>0.779</td>\n",
       "      <td>0.4</td>\n",
       "      <td>0.6</td>\n",
       "      <td>2.4</td>\n",
       "      <td>3.1</td>\n",
       "      <td>0.280488</td>\n",
       "    </tr>\n",
       "    <tr>\n",
       "      <th>4</th>\n",
       "      <td>2001</td>\n",
       "      <td>Bryant Reeves</td>\n",
       "      <td>VAN</td>\n",
       "      <td>0.640000</td>\n",
       "      <td>24.4</td>\n",
       "      <td>8.3</td>\n",
       "      <td>6.0</td>\n",
       "      <td>1.1</td>\n",
       "      <td>7.4</td>\n",
       "      <td>0.460</td>\n",
       "      <td>...</td>\n",
       "      <td>0.250</td>\n",
       "      <td>7.3</td>\n",
       "      <td>0.462</td>\n",
       "      <td>1.9</td>\n",
       "      <td>0.796</td>\n",
       "      <td>0.6</td>\n",
       "      <td>0.7</td>\n",
       "      <td>1.2</td>\n",
       "      <td>3.2</td>\n",
       "      <td>0.280488</td>\n",
       "    </tr>\n",
       "  </tbody>\n",
       "</table>\n",
       "<p>5 rows × 21 columns</p>\n",
       "</div>"
      ],
      "text/plain": [
       "   Year               Player   Tm  start_pct    MP   PTS  TRB  AST   FGA  \\\n",
       "0  2001  Shareef Abdur-Rahim  VAN   1.000000  40.0  20.5  9.1  3.1  15.8   \n",
       "1  2001           Mike Bibby  VAN   1.000000  38.9  15.9  3.7  8.4  14.1   \n",
       "2  2001    Michael Dickerson  VAN   0.985714  37.4  16.3  3.3  3.3  14.6   \n",
       "3  2001   Othella Harrington  VAN   0.909091  28.8  10.9  6.6  0.8   8.8   \n",
       "4  2001        Bryant Reeves  VAN   0.640000  24.4   8.3  6.0  1.1   7.4   \n",
       "\n",
       "     FG%  ...    3P%   2PA    2P%  FTA    FT%  STL  BLK  TOV   PF   win_pct  \n",
       "0  0.472  ...  0.188  15.0  0.487  6.6  0.834  1.1  1.0  2.9  2.9  0.280488  \n",
       "1  0.454  ...  0.379  10.6  0.478  2.3  0.761  1.3  0.1  3.0  1.8  0.280488  \n",
       "2  0.417  ...  0.374  11.3  0.429  3.9  0.763  0.9  0.4  2.3  3.0  0.280488  \n",
       "3  0.466  ...  0.000   8.7  0.470  3.5  0.779  0.4  0.6  2.4  3.1  0.280488  \n",
       "4  0.460  ...  0.250   7.3  0.462  1.9  0.796  0.6  0.7  1.2  3.2  0.280488  \n",
       "\n",
       "[5 rows x 21 columns]"
      ]
     },
     "execution_count": 8,
     "metadata": {},
     "output_type": "execute_result"
    }
   ],
   "source": [
    "nba.head()"
   ]
  },
  {
   "cell_type": "code",
   "execution_count": 9,
   "metadata": {
    "scrolled": true
   },
   "outputs": [
    {
     "data": {
      "text/html": [
       "<div>\n",
       "<style scoped>\n",
       "    .dataframe tbody tr th:only-of-type {\n",
       "        vertical-align: middle;\n",
       "    }\n",
       "\n",
       "    .dataframe tbody tr th {\n",
       "        vertical-align: top;\n",
       "    }\n",
       "\n",
       "    .dataframe thead th {\n",
       "        text-align: right;\n",
       "    }\n",
       "</style>\n",
       "<table border=\"1\" class=\"dataframe\">\n",
       "  <thead>\n",
       "    <tr style=\"text-align: right;\">\n",
       "      <th></th>\n",
       "      <th>MP</th>\n",
       "      <th>PTS</th>\n",
       "      <th>TRB</th>\n",
       "      <th>AST</th>\n",
       "      <th>3PA</th>\n",
       "      <th>3P%</th>\n",
       "      <th>2PA</th>\n",
       "      <th>2P%</th>\n",
       "      <th>FTA</th>\n",
       "      <th>FT%</th>\n",
       "      <th>STL</th>\n",
       "      <th>BLK</th>\n",
       "      <th>TOV</th>\n",
       "      <th>PF</th>\n",
       "      <th>win_pct</th>\n",
       "    </tr>\n",
       "  </thead>\n",
       "  <tbody>\n",
       "    <tr>\n",
       "      <th>0</th>\n",
       "      <td>40.0</td>\n",
       "      <td>20.5</td>\n",
       "      <td>9.1</td>\n",
       "      <td>3.1</td>\n",
       "      <td>0.8</td>\n",
       "      <td>0.188</td>\n",
       "      <td>15.0</td>\n",
       "      <td>0.487</td>\n",
       "      <td>6.6</td>\n",
       "      <td>0.834</td>\n",
       "      <td>1.1</td>\n",
       "      <td>1.0</td>\n",
       "      <td>2.9</td>\n",
       "      <td>2.9</td>\n",
       "      <td>0.280488</td>\n",
       "    </tr>\n",
       "    <tr>\n",
       "      <th>1</th>\n",
       "      <td>38.9</td>\n",
       "      <td>15.9</td>\n",
       "      <td>3.7</td>\n",
       "      <td>8.4</td>\n",
       "      <td>3.5</td>\n",
       "      <td>0.379</td>\n",
       "      <td>10.6</td>\n",
       "      <td>0.478</td>\n",
       "      <td>2.3</td>\n",
       "      <td>0.761</td>\n",
       "      <td>1.3</td>\n",
       "      <td>0.1</td>\n",
       "      <td>3.0</td>\n",
       "      <td>1.8</td>\n",
       "      <td>0.280488</td>\n",
       "    </tr>\n",
       "    <tr>\n",
       "      <th>2</th>\n",
       "      <td>37.4</td>\n",
       "      <td>16.3</td>\n",
       "      <td>3.3</td>\n",
       "      <td>3.3</td>\n",
       "      <td>3.3</td>\n",
       "      <td>0.374</td>\n",
       "      <td>11.3</td>\n",
       "      <td>0.429</td>\n",
       "      <td>3.9</td>\n",
       "      <td>0.763</td>\n",
       "      <td>0.9</td>\n",
       "      <td>0.4</td>\n",
       "      <td>2.3</td>\n",
       "      <td>3.0</td>\n",
       "      <td>0.280488</td>\n",
       "    </tr>\n",
       "    <tr>\n",
       "      <th>3</th>\n",
       "      <td>28.8</td>\n",
       "      <td>10.9</td>\n",
       "      <td>6.6</td>\n",
       "      <td>0.8</td>\n",
       "      <td>0.1</td>\n",
       "      <td>0.000</td>\n",
       "      <td>8.7</td>\n",
       "      <td>0.470</td>\n",
       "      <td>3.5</td>\n",
       "      <td>0.779</td>\n",
       "      <td>0.4</td>\n",
       "      <td>0.6</td>\n",
       "      <td>2.4</td>\n",
       "      <td>3.1</td>\n",
       "      <td>0.280488</td>\n",
       "    </tr>\n",
       "    <tr>\n",
       "      <th>4</th>\n",
       "      <td>24.4</td>\n",
       "      <td>8.3</td>\n",
       "      <td>6.0</td>\n",
       "      <td>1.1</td>\n",
       "      <td>0.1</td>\n",
       "      <td>0.250</td>\n",
       "      <td>7.3</td>\n",
       "      <td>0.462</td>\n",
       "      <td>1.9</td>\n",
       "      <td>0.796</td>\n",
       "      <td>0.6</td>\n",
       "      <td>0.7</td>\n",
       "      <td>1.2</td>\n",
       "      <td>3.2</td>\n",
       "      <td>0.280488</td>\n",
       "    </tr>\n",
       "  </tbody>\n",
       "</table>\n",
       "</div>"
      ],
      "text/plain": [
       "     MP   PTS  TRB  AST  3PA    3P%   2PA    2P%  FTA    FT%  STL  BLK  TOV  \\\n",
       "0  40.0  20.5  9.1  3.1  0.8  0.188  15.0  0.487  6.6  0.834  1.1  1.0  2.9   \n",
       "1  38.9  15.9  3.7  8.4  3.5  0.379  10.6  0.478  2.3  0.761  1.3  0.1  3.0   \n",
       "2  37.4  16.3  3.3  3.3  3.3  0.374  11.3  0.429  3.9  0.763  0.9  0.4  2.3   \n",
       "3  28.8  10.9  6.6  0.8  0.1  0.000   8.7  0.470  3.5  0.779  0.4  0.6  2.4   \n",
       "4  24.4   8.3  6.0  1.1  0.1  0.250   7.3  0.462  1.9  0.796  0.6  0.7  1.2   \n",
       "\n",
       "    PF   win_pct  \n",
       "0  2.9  0.280488  \n",
       "1  1.8  0.280488  \n",
       "2  3.0  0.280488  \n",
       "3  3.1  0.280488  \n",
       "4  3.2  0.280488  "
      ]
     },
     "execution_count": 9,
     "metadata": {},
     "output_type": "execute_result"
    }
   ],
   "source": [
    "nba_mlr = nba.drop(labels=['Year', 'Player', 'Tm', 'start_pct', 'FGA', 'FG%'], axis=1)\n",
    "nba_mlr.head()"
   ]
  },
  {
   "cell_type": "markdown",
   "metadata": {},
   "source": [
    "Next, we will **standardize** tally stats like `PTS`, `TRB` (total rebounds), `AST` (assists), `STL` (steals), `BLK` (blocks), `TOV` (turnovers), and `PF` (personal fouls) by dividing them by the minutes played (or `MP`). This will help show how efficient each player is in each of these stats.\n",
    "\n",
    "This change evens out the playing field between starters, who get the majority of minutes, and role players, who don't get to play as long. This forces our model to care more about the actual tally stat instead of allowing some super dominant player like LeBron James, who alone drives up his team's win_pct significantly, to skew the model.\n",
    "\n",
    "Drop the `MP` column after this standardization, as it no longer serves any purpose.\n",
    "\n",
    "Rename the columns we just standardized to indicate that these are now **efficiency** metric. Ex: `PT` --> `efPT`."
   ]
  },
  {
   "cell_type": "code",
   "execution_count": 10,
   "metadata": {
    "scrolled": true
   },
   "outputs": [
    {
     "data": {
      "text/html": [
       "<div>\n",
       "<style scoped>\n",
       "    .dataframe tbody tr th:only-of-type {\n",
       "        vertical-align: middle;\n",
       "    }\n",
       "\n",
       "    .dataframe tbody tr th {\n",
       "        vertical-align: top;\n",
       "    }\n",
       "\n",
       "    .dataframe thead th {\n",
       "        text-align: right;\n",
       "    }\n",
       "</style>\n",
       "<table border=\"1\" class=\"dataframe\">\n",
       "  <thead>\n",
       "    <tr style=\"text-align: right;\">\n",
       "      <th></th>\n",
       "      <th>efPTS</th>\n",
       "      <th>efTRB</th>\n",
       "      <th>efAST</th>\n",
       "      <th>3PA</th>\n",
       "      <th>3P%</th>\n",
       "      <th>2PA</th>\n",
       "      <th>2P%</th>\n",
       "      <th>FTA</th>\n",
       "      <th>FT%</th>\n",
       "      <th>efSTL</th>\n",
       "      <th>efBLK</th>\n",
       "      <th>efTOV</th>\n",
       "      <th>efPF</th>\n",
       "      <th>win_pct</th>\n",
       "    </tr>\n",
       "  </thead>\n",
       "  <tbody>\n",
       "    <tr>\n",
       "      <th>0</th>\n",
       "      <td>0.512500</td>\n",
       "      <td>0.227500</td>\n",
       "      <td>0.077500</td>\n",
       "      <td>0.8</td>\n",
       "      <td>0.188</td>\n",
       "      <td>15.0</td>\n",
       "      <td>0.487</td>\n",
       "      <td>6.6</td>\n",
       "      <td>0.834</td>\n",
       "      <td>0.027500</td>\n",
       "      <td>0.025000</td>\n",
       "      <td>0.072500</td>\n",
       "      <td>0.072500</td>\n",
       "      <td>0.280488</td>\n",
       "    </tr>\n",
       "    <tr>\n",
       "      <th>1</th>\n",
       "      <td>0.408740</td>\n",
       "      <td>0.095116</td>\n",
       "      <td>0.215938</td>\n",
       "      <td>3.5</td>\n",
       "      <td>0.379</td>\n",
       "      <td>10.6</td>\n",
       "      <td>0.478</td>\n",
       "      <td>2.3</td>\n",
       "      <td>0.761</td>\n",
       "      <td>0.033419</td>\n",
       "      <td>0.002571</td>\n",
       "      <td>0.077121</td>\n",
       "      <td>0.046272</td>\n",
       "      <td>0.280488</td>\n",
       "    </tr>\n",
       "    <tr>\n",
       "      <th>2</th>\n",
       "      <td>0.435829</td>\n",
       "      <td>0.088235</td>\n",
       "      <td>0.088235</td>\n",
       "      <td>3.3</td>\n",
       "      <td>0.374</td>\n",
       "      <td>11.3</td>\n",
       "      <td>0.429</td>\n",
       "      <td>3.9</td>\n",
       "      <td>0.763</td>\n",
       "      <td>0.024064</td>\n",
       "      <td>0.010695</td>\n",
       "      <td>0.061497</td>\n",
       "      <td>0.080214</td>\n",
       "      <td>0.280488</td>\n",
       "    </tr>\n",
       "    <tr>\n",
       "      <th>3</th>\n",
       "      <td>0.378472</td>\n",
       "      <td>0.229167</td>\n",
       "      <td>0.027778</td>\n",
       "      <td>0.1</td>\n",
       "      <td>0.000</td>\n",
       "      <td>8.7</td>\n",
       "      <td>0.470</td>\n",
       "      <td>3.5</td>\n",
       "      <td>0.779</td>\n",
       "      <td>0.013889</td>\n",
       "      <td>0.020833</td>\n",
       "      <td>0.083333</td>\n",
       "      <td>0.107639</td>\n",
       "      <td>0.280488</td>\n",
       "    </tr>\n",
       "    <tr>\n",
       "      <th>4</th>\n",
       "      <td>0.340164</td>\n",
       "      <td>0.245902</td>\n",
       "      <td>0.045082</td>\n",
       "      <td>0.1</td>\n",
       "      <td>0.250</td>\n",
       "      <td>7.3</td>\n",
       "      <td>0.462</td>\n",
       "      <td>1.9</td>\n",
       "      <td>0.796</td>\n",
       "      <td>0.024590</td>\n",
       "      <td>0.028689</td>\n",
       "      <td>0.049180</td>\n",
       "      <td>0.131148</td>\n",
       "      <td>0.280488</td>\n",
       "    </tr>\n",
       "  </tbody>\n",
       "</table>\n",
       "</div>"
      ],
      "text/plain": [
       "      efPTS     efTRB     efAST  3PA    3P%   2PA    2P%  FTA    FT%  \\\n",
       "0  0.512500  0.227500  0.077500  0.8  0.188  15.0  0.487  6.6  0.834   \n",
       "1  0.408740  0.095116  0.215938  3.5  0.379  10.6  0.478  2.3  0.761   \n",
       "2  0.435829  0.088235  0.088235  3.3  0.374  11.3  0.429  3.9  0.763   \n",
       "3  0.378472  0.229167  0.027778  0.1  0.000   8.7  0.470  3.5  0.779   \n",
       "4  0.340164  0.245902  0.045082  0.1  0.250   7.3  0.462  1.9  0.796   \n",
       "\n",
       "      efSTL     efBLK     efTOV      efPF   win_pct  \n",
       "0  0.027500  0.025000  0.072500  0.072500  0.280488  \n",
       "1  0.033419  0.002571  0.077121  0.046272  0.280488  \n",
       "2  0.024064  0.010695  0.061497  0.080214  0.280488  \n",
       "3  0.013889  0.020833  0.083333  0.107639  0.280488  \n",
       "4  0.024590  0.028689  0.049180  0.131148  0.280488  "
      ]
     },
     "execution_count": 10,
     "metadata": {},
     "output_type": "execute_result"
    }
   ],
   "source": [
    "# Standardize by converting these to efficiency metrics\n",
    "nba_mlr['PTS'] = nba_mlr['PTS'] / nba_mlr['MP']\n",
    "nba_mlr['TRB'] = nba_mlr['TRB'] / nba_mlr['MP']\n",
    "nba_mlr['AST'] = nba_mlr['AST'] / nba_mlr['MP']\n",
    "nba_mlr['STL'] = nba_mlr['STL'] / nba_mlr['MP']\n",
    "nba_mlr['BLK'] = nba_mlr['BLK'] / nba_mlr['MP']\n",
    "nba_mlr['TOV'] = nba_mlr['TOV'] / nba_mlr['MP']\n",
    "nba_mlr['PF'] = nba_mlr['PF'] / nba_mlr['MP']\n",
    "\n",
    "# Drop `MP` column\n",
    "nba_mlr = nba_mlr.drop(labels=['MP'], axis=1)\n",
    "\n",
    "# Rename columns\n",
    "new_names = {'PTS': 'efPTS',\n",
    "             'TRB': 'efTRB',\n",
    "             'AST': 'efAST',\n",
    "             'STL': 'efSTL',\n",
    "             'BLK': 'efBLK',\n",
    "             'TOV': 'efTOV',\n",
    "             'PF': 'efPF'}\n",
    "nba_mlr = nba_mlr.rename(columns=new_names)\n",
    "\n",
    "nba_mlr.head()"
   ]
  },
  {
   "cell_type": "markdown",
   "metadata": {},
   "source": [
    "For the same reasons we standardized the tally stats above, we will drop the `3PA`, `2PA`, and `FTA` columns, since these just measure average # of 3-pt, 2-pt, and free-throw attempts, which is more based on minutes played and does not capture efficiency. We already have the `3P%`, `2P%`, and `FTA` columns to capture efficiency."
   ]
  },
  {
   "cell_type": "code",
   "execution_count": 11,
   "metadata": {},
   "outputs": [
    {
     "data": {
      "text/html": [
       "<div>\n",
       "<style scoped>\n",
       "    .dataframe tbody tr th:only-of-type {\n",
       "        vertical-align: middle;\n",
       "    }\n",
       "\n",
       "    .dataframe tbody tr th {\n",
       "        vertical-align: top;\n",
       "    }\n",
       "\n",
       "    .dataframe thead th {\n",
       "        text-align: right;\n",
       "    }\n",
       "</style>\n",
       "<table border=\"1\" class=\"dataframe\">\n",
       "  <thead>\n",
       "    <tr style=\"text-align: right;\">\n",
       "      <th></th>\n",
       "      <th>efPTS</th>\n",
       "      <th>efTRB</th>\n",
       "      <th>efAST</th>\n",
       "      <th>3P%</th>\n",
       "      <th>2P%</th>\n",
       "      <th>FT%</th>\n",
       "      <th>efSTL</th>\n",
       "      <th>efBLK</th>\n",
       "      <th>efTOV</th>\n",
       "      <th>efPF</th>\n",
       "      <th>win_pct</th>\n",
       "    </tr>\n",
       "  </thead>\n",
       "  <tbody>\n",
       "    <tr>\n",
       "      <th>0</th>\n",
       "      <td>0.512500</td>\n",
       "      <td>0.227500</td>\n",
       "      <td>0.077500</td>\n",
       "      <td>0.188</td>\n",
       "      <td>0.487</td>\n",
       "      <td>0.834</td>\n",
       "      <td>0.027500</td>\n",
       "      <td>0.025000</td>\n",
       "      <td>0.072500</td>\n",
       "      <td>0.072500</td>\n",
       "      <td>0.280488</td>\n",
       "    </tr>\n",
       "    <tr>\n",
       "      <th>1</th>\n",
       "      <td>0.408740</td>\n",
       "      <td>0.095116</td>\n",
       "      <td>0.215938</td>\n",
       "      <td>0.379</td>\n",
       "      <td>0.478</td>\n",
       "      <td>0.761</td>\n",
       "      <td>0.033419</td>\n",
       "      <td>0.002571</td>\n",
       "      <td>0.077121</td>\n",
       "      <td>0.046272</td>\n",
       "      <td>0.280488</td>\n",
       "    </tr>\n",
       "    <tr>\n",
       "      <th>2</th>\n",
       "      <td>0.435829</td>\n",
       "      <td>0.088235</td>\n",
       "      <td>0.088235</td>\n",
       "      <td>0.374</td>\n",
       "      <td>0.429</td>\n",
       "      <td>0.763</td>\n",
       "      <td>0.024064</td>\n",
       "      <td>0.010695</td>\n",
       "      <td>0.061497</td>\n",
       "      <td>0.080214</td>\n",
       "      <td>0.280488</td>\n",
       "    </tr>\n",
       "    <tr>\n",
       "      <th>3</th>\n",
       "      <td>0.378472</td>\n",
       "      <td>0.229167</td>\n",
       "      <td>0.027778</td>\n",
       "      <td>0.000</td>\n",
       "      <td>0.470</td>\n",
       "      <td>0.779</td>\n",
       "      <td>0.013889</td>\n",
       "      <td>0.020833</td>\n",
       "      <td>0.083333</td>\n",
       "      <td>0.107639</td>\n",
       "      <td>0.280488</td>\n",
       "    </tr>\n",
       "    <tr>\n",
       "      <th>4</th>\n",
       "      <td>0.340164</td>\n",
       "      <td>0.245902</td>\n",
       "      <td>0.045082</td>\n",
       "      <td>0.250</td>\n",
       "      <td>0.462</td>\n",
       "      <td>0.796</td>\n",
       "      <td>0.024590</td>\n",
       "      <td>0.028689</td>\n",
       "      <td>0.049180</td>\n",
       "      <td>0.131148</td>\n",
       "      <td>0.280488</td>\n",
       "    </tr>\n",
       "  </tbody>\n",
       "</table>\n",
       "</div>"
      ],
      "text/plain": [
       "      efPTS     efTRB     efAST    3P%    2P%    FT%     efSTL     efBLK  \\\n",
       "0  0.512500  0.227500  0.077500  0.188  0.487  0.834  0.027500  0.025000   \n",
       "1  0.408740  0.095116  0.215938  0.379  0.478  0.761  0.033419  0.002571   \n",
       "2  0.435829  0.088235  0.088235  0.374  0.429  0.763  0.024064  0.010695   \n",
       "3  0.378472  0.229167  0.027778  0.000  0.470  0.779  0.013889  0.020833   \n",
       "4  0.340164  0.245902  0.045082  0.250  0.462  0.796  0.024590  0.028689   \n",
       "\n",
       "      efTOV      efPF   win_pct  \n",
       "0  0.072500  0.072500  0.280488  \n",
       "1  0.077121  0.046272  0.280488  \n",
       "2  0.061497  0.080214  0.280488  \n",
       "3  0.083333  0.107639  0.280488  \n",
       "4  0.049180  0.131148  0.280488  "
      ]
     },
     "execution_count": 11,
     "metadata": {},
     "output_type": "execute_result"
    }
   ],
   "source": [
    "nba_mlr = nba_mlr.drop(labels=['3PA', '2PA', 'FTA'], axis=1)\n",
    "nba_mlr.head()"
   ]
  },
  {
   "cell_type": "markdown",
   "metadata": {},
   "source": [
    "Last bit of Data Prep: \n",
    "\n",
    "Drop all rows with NaN for `3P%`, `2P%`, and `FT%` (players that never took any 3-pt shots, 2-pt shots, or free throws)."
   ]
  },
  {
   "cell_type": "code",
   "execution_count": 12,
   "metadata": {},
   "outputs": [
    {
     "name": "stdout",
     "output_type": "stream",
     "text": [
      "Before:  (3510, 11)\n",
      "After:  (3197, 11)\n"
     ]
    }
   ],
   "source": [
    "print(\"Before: \", nba_mlr.shape)\n",
    "nba_mlr = nba_mlr[nba_mlr['3P%'].isnull() == False]\n",
    "nba_mlr = nba_mlr[nba_mlr['2P%'].isnull() == False]\n",
    "nba_mlr = nba_mlr[nba_mlr['FT%'].isnull() == False]\n",
    "print(\"After: \", nba_mlr.shape)"
   ]
  },
  {
   "cell_type": "markdown",
   "metadata": {},
   "source": [
    "Now, we're ready to run our Multiple Linear Regression with `win_pct` as the response, and all other columns above as the predictors."
   ]
  },
  {
   "cell_type": "code",
   "execution_count": 13,
   "metadata": {
    "scrolled": false
   },
   "outputs": [
    {
     "name": "stdout",
     "output_type": "stream",
     "text": [
      "                            OLS Regression Results                            \n",
      "==============================================================================\n",
      "Dep. Variable:                win_pct   R-squared:                       0.135\n",
      "Model:                            OLS   Adj. R-squared:                  0.132\n",
      "Method:                 Least Squares   F-statistic:                     49.54\n",
      "Date:                Tue, 31 May 2022   Prob (F-statistic):           9.31e-93\n",
      "Time:                        23:43:56   Log-Likelihood:                 1724.2\n",
      "No. Observations:                3197   AIC:                            -3426.\n",
      "Df Residuals:                    3186   BIC:                            -3360.\n",
      "Df Model:                          10                                         \n",
      "Covariance Type:            nonrobust                                         \n",
      "==============================================================================\n",
      "                 coef    std err          t      P>|t|      [0.025      0.975]\n",
      "------------------------------------------------------------------------------\n",
      "Constant       0.1019      0.040      2.574      0.010       0.024       0.179\n",
      "efPTS          0.1383      0.030      4.656      0.000       0.080       0.197\n",
      "efTRB          0.0647      0.050      1.297      0.195      -0.033       0.163\n",
      "efAST          0.6003      0.067      8.982      0.000       0.469       0.731\n",
      "3P%            0.0625      0.021      3.046      0.002       0.022       0.103\n",
      "2P%            0.6986      0.055     12.734      0.000       0.591       0.806\n",
      "FT%            0.0210      0.033      0.643      0.520      -0.043       0.085\n",
      "efSTL          0.6263      0.227      2.755      0.006       0.180       1.072\n",
      "efBLK          0.9997      0.194      5.146      0.000       0.619       1.381\n",
      "efTOV         -2.1779      0.208    -10.467      0.000      -2.586      -1.770\n",
      "efPF          -0.3288      0.134     -2.457      0.014      -0.591      -0.066\n",
      "==============================================================================\n",
      "Omnibus:                       91.498   Durbin-Watson:                   0.556\n",
      "Prob(Omnibus):                  0.000   Jarque-Bera (JB):               48.834\n",
      "Skew:                          -0.110   Prob(JB):                     2.49e-11\n",
      "Kurtosis:                       2.436   Cond. No.                         135.\n",
      "==============================================================================\n",
      "\n",
      "Warnings:\n",
      "[1] Standard Errors assume that the covariance matrix of the errors is correctly specified.\n"
     ]
    },
    {
     "name": "stderr",
     "output_type": "stream",
     "text": [
      "c:\\Users\\pratb\\Anaconda3\\lib\\site-packages\\statsmodels\\tsa\\tsatools.py:117: FutureWarning: In a future version of pandas all arguments of concat except for the argument 'objs' will be keyword-only\n",
      "  x = pd.concat(x[::order], 1)\n"
     ]
    }
   ],
   "source": [
    "# Select all columns except `win_pct`, which is our response\n",
    "regr_X = nba_mlr.loc[:, nba_mlr.columns != 'win_pct']\n",
    "\n",
    "# Response is `win_pct`\n",
    "regr_y = nba_mlr['win_pct']\n",
    "\n",
    "# Need to add a column of 1s to create a constant term\n",
    "# statsmodels.api does not do it for us like sklearn does\n",
    "summary_X = sm.add_constant(regr_X)\n",
    "\n",
    "# Make into dataframes to make sure variable names are shown in output\n",
    "summary_X = pd.DataFrame(summary_X).reset_index(drop=True)\n",
    "summary_X.columns =  ['Constant'] + list(nba_mlr.columns[:-1])\n",
    "summary_y = pd.DataFrame(regr_y).reset_index(drop=True)\n",
    "\n",
    "summary_est = sm.OLS(summary_y, summary_X)\n",
    "\n",
    "print(summary_est.fit().summary())"
   ]
  },
  {
   "cell_type": "markdown",
   "metadata": {},
   "source": [
    "**p-value approach to testing for significant predictors**\n",
    "\n",
    "If the predictor has a p-value < 0.05, it is a significant predictor.\n",
    "\n",
    "0.05 comes from the fact that we are doing a 95% confidence level test.\n",
    "\n",
    "If we were doing a 90% confidence level test, for example, we would just need to check that p-value < 0.1.\n",
    "\n",
    "The great thing about this is that you don't need to worry about 2-tail vs 1-tail, positive vs negative t-critical cutoffs, etc. It's always just p-val < 0.05."
   ]
  },
  {
   "cell_type": "markdown",
   "metadata": {
    "collapsed": true
   },
   "source": [
    "# Logistic Regression"
   ]
  }
 ],
 "metadata": {
  "interpreter": {
   "hash": "2339bf29456ab268fe635b9017f2d31aee31ae86241757b15913e309268e7cb1"
  },
  "kernelspec": {
   "display_name": "Python 3.7.4 ('base')",
   "language": "python",
   "name": "python3"
  },
  "language_info": {
   "codemirror_mode": {
    "name": "ipython",
    "version": 3
   },
   "file_extension": ".py",
   "mimetype": "text/x-python",
   "name": "python",
   "nbconvert_exporter": "python",
   "pygments_lexer": "ipython3",
   "version": "3.7.4"
  }
 },
 "nbformat": 4,
 "nbformat_minor": 2
}
